{
 "cells": [
  {
   "cell_type": "code",
   "execution_count": 2,
   "id": "interpreted-glenn",
   "metadata": {},
   "outputs": [],
   "source": [
    "import json\n",
    "import requests\n",
    "import os\n",
    "\n",
    "# os.environ['NO_PROXY'] = '127.0.0.1'\n",
    "url = \"http://127.0.0.1:5000\""
   ]
  },
  {
   "cell_type": "code",
   "execution_count": 43,
   "id": "sacred-municipality",
   "metadata": {},
   "outputs": [
    {
     "data": {
      "text/plain": [
       "{'loadedDatasetsIds': [], 'localDatasetsIds': ['case', 'wesad']}"
      ]
     },
     "execution_count": 43,
     "metadata": {},
     "output_type": "execute_result"
    }
   ],
   "source": [
    "response = requests.post(url + \"/routeGetDatasetsInfo\", {})\n",
    "json.loads(response.content)"
   ]
  },
  {
   "cell_type": "code",
   "execution_count": 58,
   "id": "vulnerable-jerusalem",
   "metadata": {},
   "outputs": [
    {
     "data": {
      "text/plain": [
       "{'state': 'success'}"
      ]
     },
     "execution_count": 58,
     "metadata": {},
     "output_type": "execute_result"
    }
   ],
   "source": [
    "response = requests.post(url + \"/loadLocalDataset\",data = {'datasetId':'wesad'})\n",
    "json.loads(response.content)"
   ]
  },
  {
   "cell_type": "code",
   "execution_count": 44,
   "id": "portable-sixth",
   "metadata": {},
   "outputs": [
    {
     "data": {
      "text/plain": [
       "{'state': 'success'}"
      ]
     },
     "execution_count": 44,
     "metadata": {},
     "output_type": "execute_result"
    }
   ],
   "source": [
    "response = requests.post(url + \"/removeDataset\",data = {'datasetId':'test'})\n",
    "json.loads(response.content)"
   ]
  },
  {
   "cell_type": "code",
   "execution_count": 46,
   "id": "failing-victory",
   "metadata": {},
   "outputs": [
    {
     "data": {
      "text/plain": [
       "{'state': 'success'}"
      ]
     },
     "execution_count": 46,
     "metadata": {},
     "output_type": "execute_result"
    }
   ],
   "source": [
    "response = requests.post(url + \"/initializeDataset\",data = {'datasetId':'test'})\n",
    "json.loads(response.content)"
   ]
  },
  {
   "cell_type": "code",
   "execution_count": 83,
   "id": "ahead-framework",
   "metadata": {},
   "outputs": [
    {
     "data": {
      "text/plain": [
       "{'state': 'error'}"
      ]
     },
     "execution_count": 83,
     "metadata": {},
     "output_type": "execute_result"
    }
   ],
   "source": [
    "eml ='{\"vocabulary\": [\"Valence\", \"Arousal\", \"PANAS-Active\", \"PANAS-Distressed\", \"PANAS-Interested\", \"PANAS-Inspired\", \"PANAS-Annoyed\", \"PANAS-Strong\", \"PANAS-Guilty\", \"PANAS-Scared\", \"PANAS-Hostile\", \"PANAS-Excited\", \"PANAS-Proud\", \"PANAS-Irritable\", \"PANAS-Enthusiastic\", \"PANAS-Ashamed\", \"PANAS-Alert\", \"PANAS-Nervous\", \"PANAS-Determined\", \"PANAS-Attentive\", \"PANAS-Jittery\", \"PANAS-Afraid\", \"PANAS-Stressed\", \"PANAS-Frustrated\", \"PANAS-Happy\", \"PANAS-Sad\", \"STAI-I feel at ease\", \"STAI-I feel nervous\", \"STAI-I am jittery\", \"STAI-I am relaxed\", \"STAI-I am worried\", \"STAI-I feel pleasant\"], \"info\": {\"identifiers\": {\"id\": \"s2\"}, \"categoricalMetadata\": {\"Dominant hand\": \"right\", \"Gender\": \"male\"}, \"numericalMetadata\": {\"Age\": 27.0, \"Height (cm)\": 175.0, \"Weight (kg)\": 80.0}}, \"Valence\": [7.0, 5.0, 7.0, 8.0, 7.0], \"Arousal\": [2.0, 4.0, 2.0, 1.0, 2.0], \"PANAS-Active\": [1.0, 3.0, 1.0, 1.0, 1.0], \"PANAS-Distressed\": [1.0, 2.0, 1.0, 1.0, 1.0], \"PANAS-Interested\": [3.0, 4.0, 2.0, 2.0, 1.0], \"PANAS-Inspired\": [2.0, 1.0, 3.0, 3.0, 2.0], \"PANAS-Annoyed\": [1.0, 3.0, 1.0, 1.0, 1.0], \"PANAS-Strong\": [3.0, 3.0, 2.0, 1.0, 1.0], \"PANAS-Guilty\": [1.0, 1.0, 1.0, 1.0, 1.0], \"PANAS-Scared\": [1.0, 2.0, 1.0, 1.0, 1.0], \"PANAS-Hostile\": [1.0, 1.0, 1.0, 1.0, 1.0], \"PANAS-Excited\": [2.0, 4.0, 1.0, 1.0, 1.0], \"PANAS-Proud\": [2.0, 2.0, 1.0, 1.0, 1.0], \"PANAS-Irritable\": [2.0, 4.0, 1.0, 1.0, 1.0], \"PANAS-Enthusiastic\": [2.0, 3.0, 3.0, 2.0, 2.0], \"PANAS-Ashamed\": [1.0, 1.0, 1.0, 1.0, 1.0], \"PANAS-Alert\": [4.0, 5.0, 2.0, 4.0, 2.0], \"PANAS-Nervous\": [3.0, 4.0, 1.0, 1.0, 1.0], \"PANAS-Determined\": [4.0, 4.0, 2.0, 1.0, 1.0], \"PANAS-Attentive\": [4.0, 4.0, 3.0, 3.0, 2.0], \"PANAS-Jittery\": [2.0, 2.0, 1.0, 1.0, 1.0], \"PANAS-Afraid\": [2.0, 3.0, 1.0, 1.0, 1.0], \"PANAS-Stressed\": [2.0, 3.0, 1.0, 1.0, 1.0], \"PANAS-Frustrated\": [1.0, 3.0, 1.0, 2.0, 1.0], \"PANAS-Happy\": [2.0, 2.0, 4.0, 3.0, 3.0], \"PANAS-Sad\": [1.0, 1.0, 1.0, 1.0, 1.0], \"STAI-I feel at ease\": [3.0, 1.0, 4.0, 3.0, 4.0], \"STAI-I feel nervous\": [2.0, 3.0, 1.0, 1.0, 1.0], \"STAI-I am jittery\": [1.0, 2.0, 1.0, 1.0, 1.0], \"STAI-I am relaxed\": [4.0, 1.0, 4.0, 3.0, 4.0], \"STAI-I am worried\": [2.0, 3.0, 2.0, 1.0, 1.0], \"STAI-I feel pleasant\": [3.0, 1.0, 4.0, 4.0, 4.0]}'\n",
    "response = requests.post(url + \"/addEmlToDataset\",data = {'datasetId':'test', 'eml':eml})\n",
    "json.loads(response.content)"
   ]
  },
  {
   "cell_type": "code",
   "execution_count": 57,
   "id": "dependent-donor",
   "metadata": {},
   "outputs": [
    {
     "data": {
      "text/plain": [
       "{'dates': ['2021-02-10T01:55:00.000000000',\n",
       "  '2021-02-10T01:56:00.000000000',\n",
       "  '2021-02-10T01:57:00.000000000',\n",
       "  '2021-02-10T01:58:00.000000000',\n",
       "  '2021-02-10T01:59:00.000000000',\n",
       "  '2021-02-10T02:00:00.000000000',\n",
       "  '2021-02-10T02:01:00.000000000',\n",
       "  '2021-02-10T02:02:00.000000000',\n",
       "  '2021-02-10T02:03:00.000000000',\n",
       "  '2021-02-10T02:04:00.000000000',\n",
       "  '2021-02-10T02:05:00.000000000',\n",
       "  '2021-02-10T02:06:00.000000000',\n",
       "  '2021-02-10T02:07:00.000000000',\n",
       "  '2021-02-10T02:08:00.000000000',\n",
       "  '2021-02-10T02:09:00.000000000',\n",
       "  '2021-02-10T02:10:00.000000000',\n",
       "  '2021-02-10T02:11:00.000000000',\n",
       "  '2021-02-10T02:12:00.000000000',\n",
       "  '2021-02-10T02:13:00.000000000',\n",
       "  '2021-02-10T02:14:00.000000000',\n",
       "  '2021-02-10T02:15:00.000000000',\n",
       "  '2021-02-10T02:16:00.000000000',\n",
       "  '2021-02-10T02:17:00.000000000',\n",
       "  '2021-02-10T02:18:00.000000000',\n",
       "  '2021-02-10T02:19:00.000000000',\n",
       "  '2021-02-10T02:20:00.000000000',\n",
       "  '2021-02-10T02:21:00.000000000',\n",
       "  '2021-02-10T02:22:00.000000000',\n",
       "  '2021-02-10T02:23:00.000000000',\n",
       "  '2021-02-10T02:24:00.000000000',\n",
       "  '2021-02-10T02:25:00.000000000',\n",
       "  '2021-02-10T02:26:00.000000000',\n",
       "  '2021-02-10T02:27:00.000000000',\n",
       "  '2021-02-10T02:28:00.000000000',\n",
       "  '2021-02-10T02:29:00.000000000',\n",
       "  '2021-02-10T02:30:00.000000000',\n",
       "  '2021-02-10T02:31:00.000000000',\n",
       "  '2021-02-10T02:32:00.000000000',\n",
       "  '2021-02-10T02:33:00.000000000',\n",
       "  '2021-02-10T02:34:00.000000000',\n",
       "  '2021-02-10T02:35:00.000000000',\n",
       "  '2021-02-10T02:36:00.000000000'],\n",
       " 'downsampleRules': ['T', 'S'],\n",
       " 'globalEmotionMax': {'Arousal': 9.004, 'Valence': 9.5, 'Video': 12.0},\n",
       " 'globalEmotionMin': {'Arousal': 1.242, 'Valence': 0.5, 'Video': 1.0},\n",
       " 'ids': ['10', '11', '12'],\n",
       " 'instanceLen': 3,\n",
       " 'isDated': True,\n",
       " 'seriesLabels': ['Valence', 'Arousal', 'Video'],\n",
       " 'temporalLen': 42,\n",
       " 'variablesLen': 3}"
      ]
     },
     "execution_count": 57,
     "metadata": {},
     "output_type": "execute_result"
    }
   ],
   "source": [
    "response = requests.post(url + \"/getDatasetInfo\",data = {'datasetId':'case', 'procesed':'True'})\n",
    "json.loads(response.content)"
   ]
  },
  {
   "cell_type": "code",
   "execution_count": 38,
   "id": "built-blogger",
   "metadata": {},
   "outputs": [],
   "source": [
    "\n",
    "response = requests.post(url + \"/getMTSeries\",data = {'datasetId':'case', 'begin': 0, 'end': 20, 'ids': json.dumps(['11', '10']), 'procesed' : 'True' })\n",
    "# json.loads(response.content)"
   ]
  },
  {
   "cell_type": "code",
   "execution_count": 55,
   "id": "viral-feeling",
   "metadata": {},
   "outputs": [
    {
     "data": {
      "text/plain": [
       "{'state': 'success'}"
      ]
     },
     "execution_count": 55,
     "metadata": {},
     "output_type": "execute_result"
    }
   ],
   "source": [
    "\n",
    "response = requests.post(url + \"/downsampleData\",data = {'datasetId':'case', 'rule': 'T'})\n",
    "json.loads(response.content)"
   ]
  },
  {
   "cell_type": "code",
   "execution_count": null,
   "id": "controversial-absolute",
   "metadata": {},
   "outputs": [],
   "source": [
    "\n",
    "response = requests.post(url + \"/getDatasetProjection\",data = {'datasetId':'wesad', 'variables': json.dumps([\"Arousal\", \"Valence\"], 'alphas': json.dumps({\"Arousal\":1, \"Valence\":1}))})\n",
    "json.loads(response.content)"
   ]
  }
 ],
 "metadata": {
  "kernelspec": {
   "display_name": "Python 3",
   "language": "python",
   "name": "python3"
  },
  "language_info": {
   "codemirror_mode": {
    "name": "ipython",
    "version": 3
   },
   "file_extension": ".py",
   "mimetype": "text/x-python",
   "name": "python",
   "nbconvert_exporter": "python",
   "pygments_lexer": "ipython3",
   "version": "3.8.5"
  }
 },
 "nbformat": 4,
 "nbformat_minor": 5
}
