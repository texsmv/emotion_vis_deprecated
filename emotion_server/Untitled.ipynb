{
 "cells": [
  {
   "cell_type": "code",
   "execution_count": 2,
   "id": "essential-minute",
   "metadata": {},
   "outputs": [],
   "source": [
    "import json\n",
    "import requests\n",
    "import os\n",
    "\n",
    "# os.environ['NO_PROXY'] = '127.0.0.1'\n",
    "url = \"http://127.0.0.1:5000\""
   ]
  },
  {
   "cell_type": "code",
   "execution_count": 3,
   "id": "freelance-bradford",
   "metadata": {},
   "outputs": [
    {
     "data": {
      "text/plain": [
       "{'loadedDatasetsIds': ['wesad'], 'localDatasetsIds': ['case', 'wesad']}"
      ]
     },
     "execution_count": 3,
     "metadata": {},
     "output_type": "execute_result"
    }
   ],
   "source": [
    "response = requests.post(url + \"/routeGetDatasetsInfo\", {})\n",
    "json.loads(response.content)"
   ]
  },
  {
   "cell_type": "code",
   "execution_count": 3,
   "id": "integral-invitation",
   "metadata": {},
   "outputs": [
    {
     "data": {
      "text/plain": [
       "{'state': 'success'}"
      ]
     },
     "execution_count": 3,
     "metadata": {},
     "output_type": "execute_result"
    }
   ],
   "source": [
    "response = requests.post(url + \"/loadLocalDataset\",data = {'datasetId':'wesad'})\n",
    "json.loads(response.content)"
   ]
  },
  {
   "cell_type": "code",
   "execution_count": 44,
   "id": "unnecessary-change",
   "metadata": {},
   "outputs": [
    {
     "data": {
      "text/plain": [
       "{'state': 'success'}"
      ]
     },
     "execution_count": 44,
     "metadata": {},
     "output_type": "execute_result"
    }
   ],
   "source": [
    "response = requests.post(url + \"/removeDataset\",data = {'datasetId':'test'})\n",
    "json.loads(response.content)"
   ]
  },
  {
   "cell_type": "code",
   "execution_count": 46,
   "id": "derived-factory",
   "metadata": {},
   "outputs": [
    {
     "data": {
      "text/plain": [
       "{'state': 'success'}"
      ]
     },
     "execution_count": 46,
     "metadata": {},
     "output_type": "execute_result"
    }
   ],
   "source": [
    "response = requests.post(url + \"/initializeDataset\",data = {'datasetId':'test'})\n",
    "json.loads(response.content)"
   ]
  },
  {
   "cell_type": "code",
   "execution_count": 83,
   "id": "constant-mumbai",
   "metadata": {},
   "outputs": [
    {
     "data": {
      "text/plain": [
       "{'state': 'error'}"
      ]
     },
     "execution_count": 83,
     "metadata": {},
     "output_type": "execute_result"
    }
   ],
   "source": [
    "eml ='{\"vocabulary\": [\"Valence\", \"Arousal\", \"PANAS-Active\", \"PANAS-Distressed\", \"PANAS-Interested\", \"PANAS-Inspired\", \"PANAS-Annoyed\", \"PANAS-Strong\", \"PANAS-Guilty\", \"PANAS-Scared\", \"PANAS-Hostile\", \"PANAS-Excited\", \"PANAS-Proud\", \"PANAS-Irritable\", \"PANAS-Enthusiastic\", \"PANAS-Ashamed\", \"PANAS-Alert\", \"PANAS-Nervous\", \"PANAS-Determined\", \"PANAS-Attentive\", \"PANAS-Jittery\", \"PANAS-Afraid\", \"PANAS-Stressed\", \"PANAS-Frustrated\", \"PANAS-Happy\", \"PANAS-Sad\", \"STAI-I feel at ease\", \"STAI-I feel nervous\", \"STAI-I am jittery\", \"STAI-I am relaxed\", \"STAI-I am worried\", \"STAI-I feel pleasant\"], \"info\": {\"identifiers\": {\"id\": \"s2\"}, \"categoricalMetadata\": {\"Dominant hand\": \"right\", \"Gender\": \"male\"}, \"numericalMetadata\": {\"Age\": 27.0, \"Height (cm)\": 175.0, \"Weight (kg)\": 80.0}}, \"Valence\": [7.0, 5.0, 7.0, 8.0, 7.0], \"Arousal\": [2.0, 4.0, 2.0, 1.0, 2.0], \"PANAS-Active\": [1.0, 3.0, 1.0, 1.0, 1.0], \"PANAS-Distressed\": [1.0, 2.0, 1.0, 1.0, 1.0], \"PANAS-Interested\": [3.0, 4.0, 2.0, 2.0, 1.0], \"PANAS-Inspired\": [2.0, 1.0, 3.0, 3.0, 2.0], \"PANAS-Annoyed\": [1.0, 3.0, 1.0, 1.0, 1.0], \"PANAS-Strong\": [3.0, 3.0, 2.0, 1.0, 1.0], \"PANAS-Guilty\": [1.0, 1.0, 1.0, 1.0, 1.0], \"PANAS-Scared\": [1.0, 2.0, 1.0, 1.0, 1.0], \"PANAS-Hostile\": [1.0, 1.0, 1.0, 1.0, 1.0], \"PANAS-Excited\": [2.0, 4.0, 1.0, 1.0, 1.0], \"PANAS-Proud\": [2.0, 2.0, 1.0, 1.0, 1.0], \"PANAS-Irritable\": [2.0, 4.0, 1.0, 1.0, 1.0], \"PANAS-Enthusiastic\": [2.0, 3.0, 3.0, 2.0, 2.0], \"PANAS-Ashamed\": [1.0, 1.0, 1.0, 1.0, 1.0], \"PANAS-Alert\": [4.0, 5.0, 2.0, 4.0, 2.0], \"PANAS-Nervous\": [3.0, 4.0, 1.0, 1.0, 1.0], \"PANAS-Determined\": [4.0, 4.0, 2.0, 1.0, 1.0], \"PANAS-Attentive\": [4.0, 4.0, 3.0, 3.0, 2.0], \"PANAS-Jittery\": [2.0, 2.0, 1.0, 1.0, 1.0], \"PANAS-Afraid\": [2.0, 3.0, 1.0, 1.0, 1.0], \"PANAS-Stressed\": [2.0, 3.0, 1.0, 1.0, 1.0], \"PANAS-Frustrated\": [1.0, 3.0, 1.0, 2.0, 1.0], \"PANAS-Happy\": [2.0, 2.0, 4.0, 3.0, 3.0], \"PANAS-Sad\": [1.0, 1.0, 1.0, 1.0, 1.0], \"STAI-I feel at ease\": [3.0, 1.0, 4.0, 3.0, 4.0], \"STAI-I feel nervous\": [2.0, 3.0, 1.0, 1.0, 1.0], \"STAI-I am jittery\": [1.0, 2.0, 1.0, 1.0, 1.0], \"STAI-I am relaxed\": [4.0, 1.0, 4.0, 3.0, 4.0], \"STAI-I am worried\": [2.0, 3.0, 2.0, 1.0, 1.0], \"STAI-I feel pleasant\": [3.0, 1.0, 4.0, 4.0, 4.0]}'\n",
    "response = requests.post(url + \"/addEmlToDataset\",data = {'datasetId':'test', 'eml':eml})\n",
    "json.loads(response.content)"
   ]
  },
  {
   "cell_type": "code",
   "execution_count": 36,
   "id": "intended-deployment",
   "metadata": {},
   "outputs": [],
   "source": [
    "response = requests.post(url + \"/getDatasetInfo\",data = {'datasetId':'wesad', 'procesed':'True'})\n",
    "# json.loads(response.content)"
   ]
  },
  {
   "cell_type": "code",
   "execution_count": 38,
   "id": "human-photographer",
   "metadata": {},
   "outputs": [],
   "source": [
    "\n",
    "response = requests.post(url + \"/getMTSeries\",data = {'datasetId':'case', 'begin': 0, 'end': 20, 'ids': json.dumps(['11', '10']), 'procesed' : 'True' })\n",
    "# json.loads(response.content)"
   ]
  },
  {
   "cell_type": "code",
   "execution_count": 55,
   "id": "forced-muscle",
   "metadata": {},
   "outputs": [
    {
     "data": {
      "text/plain": [
       "{'state': 'success'}"
      ]
     },
     "execution_count": 55,
     "metadata": {},
     "output_type": "execute_result"
    }
   ],
   "source": [
    "\n",
    "response = requests.post(url + \"/downsampleData\",data = {'datasetId':'case', 'rule': 'T'})\n",
    "json.loads(response.content)"
   ]
  },
  {
   "cell_type": "code",
   "execution_count": 4,
   "id": "fatal-romania",
   "metadata": {},
   "outputs": [],
   "source": [
    "\n",
    "response = requests.post(url + \"/computeDk\",data = {'datasetId':'wesad', 'variables': json.dumps([\"Arousal\", \"Valence\"]), \n",
    "                                                               'procesed': 'True', 'distanceType': 1})\n",
    "D_k = json.loads(response.content)"
   ]
  },
  {
   "cell_type": "code",
   "execution_count": 5,
   "id": "infrared-institution",
   "metadata": {},
   "outputs": [
    {
     "data": {
      "text/plain": [
       "{'s10': [0.07494068982015865, -1.8378046574261158],\n",
       " 's11': [-0.31145826576483826, -0.7669903690264169],\n",
       " 's13': [-0.626245721508214, -5.29391648782114],\n",
       " 's14': [2.606985174566331, -2.3998615463691686],\n",
       " 's15': [-2.2452698762398526, 0.40572049226057905],\n",
       " 's16': [-2.2035238367120455, -0.49383328517589054],\n",
       " 's17': [-2.489305873019534, -2.9869436248738404],\n",
       " 's2': [0.2652658618314332, 1.4232368974579825],\n",
       " 's3': [2.293795628523317, 1.7754271522079632],\n",
       " 's4': [3.1351008262231046, -0.5184051514767938],\n",
       " 's5': [1.1407649743924604, 0.5026844576857561],\n",
       " 's6': [1.1436055077968965, 3.1617046148958794],\n",
       " 's7': [-0.9455932936957782, 2.0590324551305557],\n",
       " 's8': [-0.27064080815510655, 0.3565159202613519],\n",
       " 's9': [-1.5684209880583342, 4.6134331322692965]}"
      ]
     },
     "execution_count": 5,
     "metadata": {},
     "output_type": "execute_result"
    }
   ],
   "source": [
    "\n",
    "response = requests.post(url + \"/getDatasetProjection\",data = {'datasetId':'wesad', 'alphas': json.dumps({\"Arousal\":0.4, \"Valence\":1}),\n",
    "                                                               'D_k': json.dumps(D_k)})\n",
    "coords = json.loads(response.content)\n",
    "coords"
   ]
  },
  {
   "cell_type": "code",
   "execution_count": 6,
   "id": "stable-migration",
   "metadata": {},
   "outputs": [
    {
     "data": {
      "text/plain": [
       "{'0': ['s10', 's11', 's15', 's16', 's8'],\n",
       " '1': ['s2', 's3', 's5', 's6', 's7', 's9'],\n",
       " '2': ['s13', 's17'],\n",
       " '3': ['s14', 's4']}"
      ]
     },
     "execution_count": 6,
     "metadata": {},
     "output_type": "execute_result"
    }
   ],
   "source": [
    "\n",
    "response = requests.post(url + \"/doClustering\",data = {'datasetId':'wesad', 'coords': json.dumps(coords), 'k': 4})\n",
    "clusters = json.loads(response.content)\n",
    "clusters"
   ]
  },
  {
   "cell_type": "code",
   "execution_count": 7,
   "id": "according-tribune",
   "metadata": {},
   "outputs": [
    {
     "data": {
      "text/plain": [
       "{'Arousal': 0.05518847945785684, 'Valence': 0.22378838327783945}"
      ]
     },
     "execution_count": 7,
     "metadata": {},
     "output_type": "execute_result"
    }
   ],
   "source": [
    "response = requests.post(url + \"/getFishersDiscriminantRanking\",data = {'datasetId':'wesad', 'D_k': json.dumps(D_k), 'blueCluster': json.dumps(clusters['0']), 'redCluster': json.dumps(clusters['1']) })\n",
    "j_s = json.loads(response.content)\n",
    "j_s"
   ]
  },
  {
   "cell_type": "code",
   "execution_count": null,
   "id": "dated-calcium",
   "metadata": {},
   "outputs": [],
   "source": []
  }
 ],
 "metadata": {
  "kernelspec": {
   "display_name": "Python 3",
   "language": "python",
   "name": "python3"
  },
  "language_info": {
   "codemirror_mode": {
    "name": "ipython",
    "version": 3
   },
   "file_extension": ".py",
   "mimetype": "text/x-python",
   "name": "python",
   "nbconvert_exporter": "python",
   "pygments_lexer": "ipython3",
   "version": "3.8.5"
  }
 },
 "nbformat": 4,
 "nbformat_minor": 5
}
